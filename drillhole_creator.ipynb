{
 "cells": [
  {
   "cell_type": "code",
   "execution_count": 1,
   "metadata": {},
   "outputs": [],
   "source": [
    "import pandas as pd\n",
    "import numpy as np\n",
    "import matplotlib.pyplot as plt"
   ]
  },
  {
   "cell_type": "code",
   "execution_count": 2,
   "metadata": {},
   "outputs": [],
   "source": [
    "DATA_FOLDER = 'data/'\n",
    "assay = pd.read_csv(f'{DATA_FOLDER}BS_assay.csv')\n",
    "# block_model = pd.read_csv(f'{DATA_FOLDER}BS_block_model.csv')\n",
    "collar = pd.read_csv(f'{DATA_FOLDER}BS_collar.csv')\n",
    "# old_lith = pd.read_csv(f'{DATA_FOLDER}BS_old_lith.csv')\n",
    "# relog_geo = pd.read_csv(f'{DATA_FOLDER}BS_relog_geology.csv')\n",
    "survey = pd.read_csv(f'{DATA_FOLDER}BS_survey.csv')"
   ]
  },
  {
   "cell_type": "code",
   "execution_count": 7,
   "metadata": {},
   "outputs": [],
   "source": [
    "survey_dhs = survey.HOLEID.unique()\n",
    "collar_dhs = collar.HOLEID.unique()\n"
   ]
  },
  {
   "cell_type": "code",
   "execution_count": 8,
   "metadata": {},
   "outputs": [],
   "source": [
    "for dh in survey_dhs:\n",
    "    if dh not in collar_dhs:\n",
    "        print(dh)"
   ]
  },
  {
   "cell_type": "code",
   "execution_count": 16,
   "metadata": {},
   "outputs": [],
   "source": [
    "survey_dhs = survey.HOLEID.unique()\n",
    "\n",
    "collar.rename(columns = {\n",
    "    'EAST': 'X', \n",
    "    'NORTH': 'Y',\n",
    "    'RL': 'Z',\n",
    "    'Azimuth': 'AZI',\n",
    "    'Dip': 'DIP'\n",
    "    \n",
    "}, inplace = True)\n",
    "\n",
    "drillholes, bad_data = {}, []\n",
    "for i, row in collar.iterrows():\n",
    "    holeid = row.HOLEID\n",
    "    if holeid in survey_dhs:\n",
    "        dh = {\n",
    "            'collar': row.to_dict(),\n",
    "            'survey': survey.query(\"HOLEID == @holeid\")\n",
    "        }\n",
    "        drillholes[holeid] = dh\n",
    "    else:\n",
    "        bad_data.append(holeid)\n",
    "    "
   ]
  },
  {
   "cell_type": "code",
   "execution_count": 20,
   "metadata": {},
   "outputs": [
    {
     "data": {
      "text/plain": [
       "234"
      ]
     },
     "execution_count": 20,
     "metadata": {},
     "output_type": "execute_result"
    }
   ],
   "source": [
    "drillholes"
   ]
  }
 ],
 "metadata": {
  "interpreter": {
   "hash": "aee8b7b246df8f9039afb4144a1f6fd8d2ca17a180786b69acc140d282b71a49"
  },
  "kernelspec": {
   "display_name": "Python 3.10.2 64-bit",
   "language": "python",
   "name": "python3"
  },
  "language_info": {
   "codemirror_mode": {
    "name": "ipython",
    "version": 3
   },
   "file_extension": ".py",
   "mimetype": "text/x-python",
   "name": "python",
   "nbconvert_exporter": "python",
   "pygments_lexer": "ipython3",
   "version": "3.10.2"
  },
  "orig_nbformat": 4
 },
 "nbformat": 4,
 "nbformat_minor": 2
}
