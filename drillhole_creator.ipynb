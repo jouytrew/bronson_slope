{
 "cells": [
  {
   "cell_type": "code",
   "execution_count": 1,
   "metadata": {},
   "outputs": [],
   "source": [
    "import pandas as pd\n",
    "import numpy as np\n",
    "import matplotlib.pyplot as plt"
   ]
  },
  {
   "cell_type": "code",
   "execution_count": 2,
   "metadata": {},
   "outputs": [],
   "source": [
    "DATA_FOLDER = 'data/'\n",
    "assay = pd.read_csv(f'{DATA_FOLDER}BS_assay.csv')\n",
    "# block_model = pd.read_csv(f'{DATA_FOLDER}BS_block_model.csv')\n",
    "collar = pd.read_csv(f'{DATA_FOLDER}BS_collar.csv')\n",
    "# old_lith = pd.read_csv(f'{DATA_FOLDER}BS_old_lith.csv')\n",
    "# relog_geo = pd.read_csv(f'{DATA_FOLDER}BS_relog_geology.csv')\n",
    "survey = pd.read_csv(f'{DATA_FOLDER}BS_survey.csv')"
   ]
  },
  {
   "cell_type": "code",
   "execution_count": 4,
   "metadata": {},
   "outputs": [],
   "source": [
    "survey_dhs = survey.HOLEID.unique()\n",
    "collar_dhs = collar.HOLEID.unique()\n",
    "assay_dhs = assay.HOLEID.unique()\n",
    "\n",
    "blacklisted_data = []\n",
    "for dh in survey_dhs:\n",
    "    if dh not in collar_dhs:\n",
    "        blacklisted_data.append(dh)\n",
    "        print(dh)\n",
    "        \n",
    "for dh in assay_dhs:\n",
    "    if dh not in collar_dhs:\n",
    "        blacklisted_data.append(dh)\n",
    "        print(dh)"
   ]
  },
  {
   "cell_type": "markdown",
   "metadata": {},
   "source": [
    "We will remove the drillholes above from the samples, as they have no collar data. We will only seem assay/DHs with collar, assay, and survey data."
   ]
  },
  {
   "cell_type": "code",
   "execution_count": 6,
   "metadata": {},
   "outputs": [
    {
     "data": {
      "text/plain": [
       "['UG17-001',\n",
       " 'UG17-002',\n",
       " 'UG17-003',\n",
       " 'UG17-006',\n",
       " 'UG17-007',\n",
       " 'UG17-008',\n",
       " 'UG17-009',\n",
       " 'UG17-004',\n",
       " 'UG17-005',\n",
       " 'UG17-010',\n",
       " 'UG17-011',\n",
       " 'UG17-012',\n",
       " 'UG17-013',\n",
       " 'UG17-014',\n",
       " 'UG17-015',\n",
       " 'UG17-016',\n",
       " 'UG17-017']"
      ]
     },
     "execution_count": 6,
     "metadata": {},
     "output_type": "execute_result"
    }
   ],
   "source": [
    "blacklisted_data"
   ]
  },
  {
   "cell_type": "code",
   "execution_count": 37,
   "metadata": {},
   "outputs": [],
   "source": [
    "collar.rename(columns = {\n",
    "    'HOLEID': 'hole_id',\n",
    "    'EAST': 'x', \n",
    "    'NORTH': 'y',\n",
    "    'RL': 'z',\n",
    "    'Azimuth': 'azi',\n",
    "    'Dip': 'dip'\n",
    "}, inplace=True)\n",
    "\n",
    "survey.rename(columns = {\n",
    "    'HOLEID': 'hole_id',\n",
    "    'DEPTH': 'depth',\n",
    "    'DIP': 'dip',\n",
    "    'AZIMUTH': 'azi'\n",
    "}, inplace=True)\n",
    "\n",
    "columns_of_interest = ['x', 'y', 'z', 'azi', 'dip']\n",
    "\n",
    "drillholes = {}\n",
    "for i, row in collar.iterrows():\n",
    "    hole_id = row.hole_id\n",
    "    if hole_id not in blacklisted_data:\n",
    "        dh = {\n",
    "            'collar': row[columns_of_interest].to_dict(),\n",
    "            'survey': survey.query(\"hole_id == @hole_id\")  # TODO: should maybe clean this first?\n",
    "        }\n",
    "        drillholes[hole_id] = dh\n",
    "\n",
    "    "
   ]
  },
  {
   "cell_type": "code",
   "execution_count": 38,
   "metadata": {},
   "outputs": [
    {
     "data": {
      "text/plain": [
       "dict_keys(['1075s', '1077s', '1078s', '1079s', '1080s', '1198', '1199', '1200', '1201', '1202', '1203', '1204', '1208', '1209', '1210', '1211', '1212', '1213', '1214', '1215', '1216', '1217', '1218', '1219', '1220', '1221', '1222', '1223', '1224', '1225', '1226', '1227', '1228', '1229', '1230', '1231', '1232', '1233', '1234', '1235', '1236', '1237', '1238', '1239', '1240', '1241', '1242', '1243', '1244', '1245', '1246', '200601', '200602', '200603', '200604', '944', '945', '946', '947', '948', '949', '954', '955', '956', '957', '958', '959', '960', '961', '962', '963', '964', '984', '985', '986', '987', '990', '993', '994', 'BS0701', 'BS0702', 'BS0703', 'BS0704', 'BS0705', 'BS0706', 'BS0708', 'BS0709', 'BS0710', 'BS0711', 'BS0712', 'CS86-04', 'CS86-06', 'CS87-23', 'CS87-25', 'CS87-42', 'CS87-69', 'CS88-101', 'CS88-106', 'CS88-97', 'CS88-99', 'CS93-03', 'CS93-04', 'CS93-05', 'CS93-06', 'CS94-125', 'CS94-126', 'CS94-127', 'CS94-129', 'CS94-130', 'CS94-19', 'CS94-20', 'CS95-22', 'CS95-23', 'CS95-24', 'S-975x', 'SG12-29', 'SK09-01', 'SK09-02', 'SK10-01', 'SK10-02', 'SK10-03', 'SK10-04', 'SK10-05', 'SK10-06', 'SK10-07', 'SK10-08', 'SK10-09', 'SK10-10', 'SK10-11', 'SK10-12', 'SK10-13', 'SK10-14', 'SK10-15', 'SK10-16', 'SK10-17', 'SK10-18', 'SK11-19', 'SK11-20', 'SK11-21', 'SK84-51', 'SK84-51a', 'SK-911', 'SK-917', 'SK-918', 'SK-919', 'SK-988', 'SK-989', 'SK-991', 'SK-992', 'SK-995', 'UG18-083', 'UG18-084', 'UG18-085', 'UG18-086', 'UG18-087', 'UG18-088', 'UG18-089', 'UG18-090', 'UG18-091', 'UG18-092', 'UG18-093', 'UG18-071', 'UG18-073', 'UG18-074', 'UG18-075', 'UG18-076', 'UG18-077', 'UG18-078', 'UG18-079', 'UG18-080', 'UG18-081', 'UG18-082', 'UG17-046', 'UG17-047', 'UG17-048', 'UG17-049', 'UG17-050', 'UG17-051', 'UG17-052', 'UG17-057', 'UG17-058', 'UG17-060', 'UG17-061', 'S21-054', 'S20-045', 'S20-046', 'S20-047', 'S20-048', 'S20-049', 'S20-050', 'S20-051', 'S20-052', 'S20-053', 'UG21-178', 'UG21-179', 'UG21-180', 'UG21-181', 'UG21-182', 'UG21-183', 'UG21-184', 'UG21-185', 'UG21-186', 'UG21-187', 'UG21-188', 'UG21-189', 'UG21-190', 'UG21-191', 'UG21-192', 'UG21-193', 'UG21-194', 'UG21-195', 'UG21-196', 'UG21-197', 'UG21-198', 'UG21-199', 'UG21-200', 'UG21-201', 'UG21-202', 'UG21-203', 'UG21-204', 'UG21-205', 'UG21-206', 'UG21-207', 'UG21-208', 'UG21-209', 'UG21-210', 'UG21-211', 'UG21-212', 'UG21-213', 'UG21-214', 'UG21-215', 'UG21-215-A', 'UG21-216', 'UG21-217'])"
      ]
     },
     "execution_count": 38,
     "metadata": {},
     "output_type": "execute_result"
    }
   ],
   "source": [
    "drillholes.keys()"
   ]
  },
  {
   "cell_type": "code",
   "execution_count": 51,
   "metadata": {},
   "outputs": [
    {
     "name": "stderr",
     "output_type": "stream",
     "text": [
      "/var/folders/4h/m6_qv78d1ll6g0_5dn81rvh80000gp/T/ipykernel_62491/1410408512.py:6: SettingWithCopyWarning: \n",
      "A value is trying to be set on a copy of a slice from a DataFrame.\n",
      "Try using .loc[row_indexer,col_indexer] = value instead\n",
      "\n",
      "See the caveats in the documentation: https://pandas.pydata.org/pandas-docs/stable/user_guide/indexing.html#returning-a-view-versus-a-copy\n",
      "  dh_survey['theta'] = np.add(90, np.multiply(-1, dh_survey.loc[:, 'azi'])) % 360\n",
      "/var/folders/4h/m6_qv78d1ll6g0_5dn81rvh80000gp/T/ipykernel_62491/1410408512.py:7: SettingWithCopyWarning: \n",
      "A value is trying to be set on a copy of a slice from a DataFrame.\n",
      "Try using .loc[row_indexer,col_indexer] = value instead\n",
      "\n",
      "See the caveats in the documentation: https://pandas.pydata.org/pandas-docs/stable/user_guide/indexing.html#returning-a-view-versus-a-copy\n",
      "  dh_survey['dz'] = dh_survey['dist'] * np.sin(np.deg2rad(dh_survey.loc[:, 'dip']))\n"
     ]
    }
   ],
   "source": [
    "for dh_id, dh in drillholes.items():\n",
    "    dh_collar = dh['collar']\n",
    "    x0, y0, z0 = dh_collar['x'], dh_collar['y'], dh_collar['z']\n",
    "    \n",
    "    dh_survey = dh['survey']\n",
    "    # dh_survey['dist'] = \n",
    "    dh_survey['theta'] = np.add(90, np.multiply(-1, dh_survey.loc[:, 'azi'])) % 360\n",
    "    dh_survey['dz'] = dh_survey['dist'] * np.sin(np.deg2rad(dh_survey.loc[:, 'dip']))\n"
   ]
  },
  {
   "cell_type": "code",
   "execution_count": 52,
   "metadata": {},
   "outputs": [
    {
     "data": {
      "text/plain": [
       "{'x': 373665.19, 'y': 6280872.17, 'z': 575.48, 'azi': 45.0, 'dip': 210.0}"
      ]
     },
     "execution_count": 52,
     "metadata": {},
     "output_type": "execute_result"
    }
   ],
   "source": [
    "drillholes['SK10-11']['collar']"
   ]
  },
  {
   "cell_type": "code",
   "execution_count": 53,
   "metadata": {},
   "outputs": [
    {
     "data": {
      "text/html": [
       "<div>\n",
       "<style scoped>\n",
       "    .dataframe tbody tr th:only-of-type {\n",
       "        vertical-align: middle;\n",
       "    }\n",
       "\n",
       "    .dataframe tbody tr th {\n",
       "        vertical-align: top;\n",
       "    }\n",
       "\n",
       "    .dataframe thead th {\n",
       "        text-align: right;\n",
       "    }\n",
       "</style>\n",
       "<table border=\"1\" class=\"dataframe\">\n",
       "  <thead>\n",
       "    <tr style=\"text-align: right;\">\n",
       "      <th></th>\n",
       "      <th>hole_id</th>\n",
       "      <th>dist</th>\n",
       "      <th>dip</th>\n",
       "      <th>azi</th>\n",
       "      <th>theta</th>\n",
       "      <th>dz</th>\n",
       "    </tr>\n",
       "  </thead>\n",
       "  <tbody>\n",
       "    <tr>\n",
       "      <th>449</th>\n",
       "      <td>SK10-11</td>\n",
       "      <td>0.00</td>\n",
       "      <td>45.0</td>\n",
       "      <td>210.0</td>\n",
       "      <td>240.0</td>\n",
       "      <td>0.000000</td>\n",
       "    </tr>\n",
       "    <tr>\n",
       "      <th>450</th>\n",
       "      <td>SK10-11</td>\n",
       "      <td>12.00</td>\n",
       "      <td>46.4</td>\n",
       "      <td>211.8</td>\n",
       "      <td>238.2</td>\n",
       "      <td>8.690062</td>\n",
       "    </tr>\n",
       "    <tr>\n",
       "      <th>451</th>\n",
       "      <td>SK10-11</td>\n",
       "      <td>60.00</td>\n",
       "      <td>46.8</td>\n",
       "      <td>218.2</td>\n",
       "      <td>231.8</td>\n",
       "      <td>43.738118</td>\n",
       "    </tr>\n",
       "    <tr>\n",
       "      <th>452</th>\n",
       "      <td>SK10-11</td>\n",
       "      <td>110.87</td>\n",
       "      <td>46.7</td>\n",
       "      <td>220.4</td>\n",
       "      <td>229.6</td>\n",
       "      <td>80.688166</td>\n",
       "    </tr>\n",
       "  </tbody>\n",
       "</table>\n",
       "</div>"
      ],
      "text/plain": [
       "     hole_id    dist   dip    azi  theta         dz\n",
       "449  SK10-11    0.00  45.0  210.0  240.0   0.000000\n",
       "450  SK10-11   12.00  46.4  211.8  238.2   8.690062\n",
       "451  SK10-11   60.00  46.8  218.2  231.8  43.738118\n",
       "452  SK10-11  110.87  46.7  220.4  229.6  80.688166"
      ]
     },
     "execution_count": 53,
     "metadata": {},
     "output_type": "execute_result"
    }
   ],
   "source": [
    "drillholes['SK10-11']['survey']"
   ]
  }
 ],
 "metadata": {
  "interpreter": {
   "hash": "aee8b7b246df8f9039afb4144a1f6fd8d2ca17a180786b69acc140d282b71a49"
  },
  "kernelspec": {
   "display_name": "Python 3.10.2 64-bit",
   "language": "python",
   "name": "python3"
  },
  "language_info": {
   "codemirror_mode": {
    "name": "ipython",
    "version": 3
   },
   "file_extension": ".py",
   "mimetype": "text/x-python",
   "name": "python",
   "nbconvert_exporter": "python",
   "pygments_lexer": "ipython3",
   "version": "3.10.2"
  },
  "orig_nbformat": 4
 },
 "nbformat": 4,
 "nbformat_minor": 2
}
