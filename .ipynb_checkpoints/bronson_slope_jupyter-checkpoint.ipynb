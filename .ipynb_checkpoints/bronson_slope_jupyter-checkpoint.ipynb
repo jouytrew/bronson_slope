{
 "cells": [
  {
   "cell_type": "code",
   "execution_count": 1,
   "metadata": {},
   "outputs": [],
   "source": [
    "import pandas as pd\n",
    "import numpy as np\n",
    "import matplotlib.pyplot as plt"
   ]
  },
  {
   "cell_type": "code",
   "execution_count": 2,
   "metadata": {},
   "outputs": [],
   "source": [
    "DATA_FOLDER = 'data/'\n",
    "assay = pd.read_csv(f'{DATA_FOLDER}BS_assay.csv')\n",
    "block_model = pd.read_csv(f'{DATA_FOLDER}BS_block_model.csv')\n",
    "collar = pd.read_csv(f'{DATA_FOLDER}BS_collar.csv')\n",
    "old_lith = pd.read_csv(f'{DATA_FOLDER}BS_old_lith.csv')\n",
    "relog_geo = pd.read_csv(f'{DATA_FOLDER}BS_relog_geology.csv')\n",
    "survey = pd.read_csv(f'{DATA_FOLDER}BS_survey.csv')"
   ]
  },
  {
   "cell_type": "code",
   "execution_count": 3,
   "metadata": {},
   "outputs": [
    {
     "data": {
      "text/plain": [
       "194"
      ]
     },
     "execution_count": 3,
     "metadata": {},
     "output_type": "execute_result"
    }
   ],
   "source": [
    "len(assay.HOLEID.unique())"
   ]
  },
  {
   "cell_type": "code",
   "execution_count": 4,
   "metadata": {},
   "outputs": [
    {
     "name": "stdout",
     "output_type": "stream",
     "text": [
      "10527 404919 234 40845 221 937\n"
     ]
    }
   ],
   "source": [
    "print(len(assay), len(block_model), len(collar), len(old_lith), len(relog_geo), len(survey))"
   ]
  },
  {
   "cell_type": "code",
   "execution_count": 5,
   "metadata": {},
   "outputs": [
    {
     "data": {
      "text/html": [
       "<div>\n",
       "<style scoped>\n",
       "    .dataframe tbody tr th:only-of-type {\n",
       "        vertical-align: middle;\n",
       "    }\n",
       "\n",
       "    .dataframe tbody tr th {\n",
       "        vertical-align: top;\n",
       "    }\n",
       "\n",
       "    .dataframe thead th {\n",
       "        text-align: right;\n",
       "    }\n",
       "</style>\n",
       "<table border=\"1\" class=\"dataframe\">\n",
       "  <thead>\n",
       "    <tr style=\"text-align: right;\">\n",
       "      <th></th>\n",
       "      <th>HOLEID</th>\n",
       "      <th>SAMPFROM</th>\n",
       "      <th>SAMPTO</th>\n",
       "      <th>AG_PPM_OLDISKUT</th>\n",
       "      <th>AS_PPM_OLDISKUT</th>\n",
       "      <th>AU_PPM_OLDISKUT</th>\n",
       "      <th>BA_PPM_OLDISKUT</th>\n",
       "      <th>BI_PPM_OLDISKUT</th>\n",
       "      <th>CD_PPM_OLDISKUT</th>\n",
       "      <th>CO_PPM_OLDISKUT</th>\n",
       "      <th>...</th>\n",
       "      <th>K_PCT_OLDISKUT</th>\n",
       "      <th>MO_PCT_OLDISKUT</th>\n",
       "      <th>NA_PCT_OLDISKUT</th>\n",
       "      <th>PB_PCT_OLDISKUT</th>\n",
       "      <th>S_PCT_OLDISKUT</th>\n",
       "      <th>SB_PPM_OLDISKUT</th>\n",
       "      <th>Comment</th>\n",
       "      <th>Veins</th>\n",
       "      <th>Snip_Veins</th>\n",
       "      <th>Snip_veins_sorted</th>\n",
       "    </tr>\n",
       "  </thead>\n",
       "  <tbody>\n",
       "    <tr>\n",
       "      <th>0</th>\n",
       "      <td>1198</td>\n",
       "      <td>3.0</td>\n",
       "      <td>8.0</td>\n",
       "      <td>2.6</td>\n",
       "      <td>NaN</td>\n",
       "      <td>0.375</td>\n",
       "      <td>NaN</td>\n",
       "      <td>NaN</td>\n",
       "      <td>NaN</td>\n",
       "      <td>NaN</td>\n",
       "      <td>...</td>\n",
       "      <td>NaN</td>\n",
       "      <td>0.006</td>\n",
       "      <td>NaN</td>\n",
       "      <td>NaN</td>\n",
       "      <td>NaN</td>\n",
       "      <td>NaN</td>\n",
       "      <td>NaN</td>\n",
       "      <td>NaN</td>\n",
       "      <td>High</td>\n",
       "      <td>High</td>\n",
       "    </tr>\n",
       "  </tbody>\n",
       "</table>\n",
       "<p>1 rows × 23 columns</p>\n",
       "</div>"
      ],
      "text/plain": [
       "  HOLEID  SAMPFROM  SAMPTO  AG_PPM_OLDISKUT  AS_PPM_OLDISKUT AU_PPM_OLDISKUT  \\\n",
       "0   1198       3.0     8.0              2.6              NaN           0.375   \n",
       "\n",
       "   BA_PPM_OLDISKUT  BI_PPM_OLDISKUT  CD_PPM_OLDISKUT  CO_PPM_OLDISKUT  ...  \\\n",
       "0              NaN              NaN              NaN              NaN  ...   \n",
       "\n",
       "   K_PCT_OLDISKUT  MO_PCT_OLDISKUT  NA_PCT_OLDISKUT  PB_PCT_OLDISKUT  \\\n",
       "0             NaN            0.006              NaN              NaN   \n",
       "\n",
       "   S_PCT_OLDISKUT  SB_PPM_OLDISKUT  Comment  Veins  Snip_Veins  \\\n",
       "0             NaN              NaN      NaN    NaN        High   \n",
       "\n",
       "  Snip_veins_sorted  \n",
       "0              High  \n",
       "\n",
       "[1 rows x 23 columns]"
      ]
     },
     "execution_count": 5,
     "metadata": {},
     "output_type": "execute_result"
    }
   ],
   "source": [
    "assay.head(1)"
   ]
  },
  {
   "cell_type": "code",
   "execution_count": 6,
   "metadata": {},
   "outputs": [
    {
     "name": "stdout",
     "output_type": "stream",
     "text": [
      "HOLEID               False\n",
      "SAMPFROM              True\n",
      "SAMPTO                True\n",
      "AG_PPM_OLDISKUT       True\n",
      "AS_PPM_OLDISKUT       True\n",
      "AU_PPM_OLDISKUT      False\n",
      "BA_PPM_OLDISKUT       True\n",
      "BI_PPM_OLDISKUT       True\n",
      "CD_PPM_OLDISKUT       True\n",
      "CO_PPM_OLDISKUT       True\n",
      "CR_PPM_OLDISKUT       True\n",
      "CU_PCT_OLDISKUT       True\n",
      "FE_PCT_OLDISKUT       True\n",
      "K_PCT_OLDISKUT        True\n",
      "MO_PCT_OLDISKUT       True\n",
      "NA_PCT_OLDISKUT       True\n",
      "PB_PCT_OLDISKUT       True\n",
      "S_PCT_OLDISKUT        True\n",
      "SB_PPM_OLDISKUT       True\n",
      "Comment               True\n",
      "Veins                 True\n",
      "Snip_Veins            True\n",
      "Snip_veins_sorted     True\n",
      "dtype: bool\n"
     ]
    }
   ],
   "source": [
    "print(assay.isna().any())"
   ]
  },
  {
   "cell_type": "code",
   "execution_count": 7,
   "metadata": {},
   "outputs": [
    {
     "data": {
      "text/html": [
       "<div>\n",
       "<style scoped>\n",
       "    .dataframe tbody tr th:only-of-type {\n",
       "        vertical-align: middle;\n",
       "    }\n",
       "\n",
       "    .dataframe tbody tr th {\n",
       "        vertical-align: top;\n",
       "    }\n",
       "\n",
       "    .dataframe thead th {\n",
       "        text-align: right;\n",
       "    }\n",
       "</style>\n",
       "<table border=\"1\" class=\"dataframe\">\n",
       "  <thead>\n",
       "    <tr style=\"text-align: right;\">\n",
       "      <th></th>\n",
       "      <th>HOLEID</th>\n",
       "      <th>SAMPFROM</th>\n",
       "      <th>SAMPTO</th>\n",
       "      <th>AG_PPM_OLDISKUT</th>\n",
       "      <th>AS_PPM_OLDISKUT</th>\n",
       "      <th>AU_PPM_OLDISKUT</th>\n",
       "      <th>BA_PPM_OLDISKUT</th>\n",
       "      <th>BI_PPM_OLDISKUT</th>\n",
       "      <th>CD_PPM_OLDISKUT</th>\n",
       "      <th>CO_PPM_OLDISKUT</th>\n",
       "      <th>...</th>\n",
       "      <th>K_PCT_OLDISKUT</th>\n",
       "      <th>MO_PCT_OLDISKUT</th>\n",
       "      <th>NA_PCT_OLDISKUT</th>\n",
       "      <th>PB_PCT_OLDISKUT</th>\n",
       "      <th>S_PCT_OLDISKUT</th>\n",
       "      <th>SB_PPM_OLDISKUT</th>\n",
       "      <th>Comment</th>\n",
       "      <th>Veins</th>\n",
       "      <th>Snip_Veins</th>\n",
       "      <th>Snip_veins_sorted</th>\n",
       "    </tr>\n",
       "  </thead>\n",
       "  <tbody>\n",
       "    <tr>\n",
       "      <th>10500</th>\n",
       "      <td>UG21-212</td>\n",
       "      <td>NaN</td>\n",
       "      <td>NaN</td>\n",
       "      <td>NaN</td>\n",
       "      <td>NaN</td>\n",
       "      <td>NSA</td>\n",
       "      <td>NaN</td>\n",
       "      <td>NaN</td>\n",
       "      <td>NaN</td>\n",
       "      <td>NaN</td>\n",
       "      <td>...</td>\n",
       "      <td>NaN</td>\n",
       "      <td>NaN</td>\n",
       "      <td>NaN</td>\n",
       "      <td>NaN</td>\n",
       "      <td>NaN</td>\n",
       "      <td>NaN</td>\n",
       "      <td>Aug 2021 drilling</td>\n",
       "      <td>NaN</td>\n",
       "      <td>NaN</td>\n",
       "      <td>NaN</td>\n",
       "    </tr>\n",
       "    <tr>\n",
       "      <th>10526</th>\n",
       "      <td>UG21-217</td>\n",
       "      <td>NaN</td>\n",
       "      <td>NaN</td>\n",
       "      <td>NaN</td>\n",
       "      <td>NaN</td>\n",
       "      <td>NSA</td>\n",
       "      <td>NaN</td>\n",
       "      <td>NaN</td>\n",
       "      <td>NaN</td>\n",
       "      <td>NaN</td>\n",
       "      <td>...</td>\n",
       "      <td>NaN</td>\n",
       "      <td>NaN</td>\n",
       "      <td>NaN</td>\n",
       "      <td>NaN</td>\n",
       "      <td>NaN</td>\n",
       "      <td>NaN</td>\n",
       "      <td>Aug 2021 drilling</td>\n",
       "      <td>NaN</td>\n",
       "      <td>NaN</td>\n",
       "      <td>NaN</td>\n",
       "    </tr>\n",
       "  </tbody>\n",
       "</table>\n",
       "<p>2 rows × 23 columns</p>\n",
       "</div>"
      ],
      "text/plain": [
       "         HOLEID  SAMPFROM  SAMPTO  AG_PPM_OLDISKUT  AS_PPM_OLDISKUT  \\\n",
       "10500  UG21-212       NaN     NaN              NaN              NaN   \n",
       "10526  UG21-217       NaN     NaN              NaN              NaN   \n",
       "\n",
       "      AU_PPM_OLDISKUT  BA_PPM_OLDISKUT  BI_PPM_OLDISKUT  CD_PPM_OLDISKUT  \\\n",
       "10500             NSA              NaN              NaN              NaN   \n",
       "10526             NSA              NaN              NaN              NaN   \n",
       "\n",
       "       CO_PPM_OLDISKUT  ...  K_PCT_OLDISKUT  MO_PCT_OLDISKUT  NA_PCT_OLDISKUT  \\\n",
       "10500              NaN  ...             NaN              NaN              NaN   \n",
       "10526              NaN  ...             NaN              NaN              NaN   \n",
       "\n",
       "       PB_PCT_OLDISKUT  S_PCT_OLDISKUT  SB_PPM_OLDISKUT            Comment  \\\n",
       "10500              NaN             NaN              NaN  Aug 2021 drilling   \n",
       "10526              NaN             NaN              NaN  Aug 2021 drilling   \n",
       "\n",
       "       Veins  Snip_Veins Snip_veins_sorted  \n",
       "10500    NaN         NaN               NaN  \n",
       "10526    NaN         NaN               NaN  \n",
       "\n",
       "[2 rows x 23 columns]"
      ]
     },
     "execution_count": 7,
     "metadata": {},
     "output_type": "execute_result"
    }
   ],
   "source": [
    "assay[assay.SAMPFROM.isna()]"
   ]
  },
  {
   "cell_type": "code",
   "execution_count": 8,
   "metadata": {},
   "outputs": [
    {
     "data": {
      "text/plain": [
       "Index(['HOLEID', 'SAMPFROM', 'SAMPTO', 'AG_PPM_OLDISKUT', 'AS_PPM_OLDISKUT',\n",
       "       'AU_PPM_OLDISKUT', 'BA_PPM_OLDISKUT', 'BI_PPM_OLDISKUT',\n",
       "       'CD_PPM_OLDISKUT', 'CO_PPM_OLDISKUT', 'CR_PPM_OLDISKUT',\n",
       "       'CU_PCT_OLDISKUT', 'FE_PCT_OLDISKUT', 'K_PCT_OLDISKUT',\n",
       "       'MO_PCT_OLDISKUT', 'NA_PCT_OLDISKUT', 'PB_PCT_OLDISKUT',\n",
       "       'S_PCT_OLDISKUT', 'SB_PPM_OLDISKUT', 'Comment', 'Veins', 'Snip_Veins',\n",
       "       'Snip_veins_sorted'],\n",
       "      dtype='object')"
      ]
     },
     "execution_count": 8,
     "metadata": {},
     "output_type": "execute_result"
    }
   ],
   "source": [
    "assay.columns"
   ]
  },
  {
   "cell_type": "code",
   "execution_count": 9,
   "metadata": {},
   "outputs": [
    {
     "name": "stderr",
     "output_type": "stream",
     "text": [
      "/Users/benjaminwong/opt/anaconda3/lib/python3.9/site-packages/pandas/core/generic.py:5516: SettingWithCopyWarning: \n",
      "A value is trying to be set on a copy of a slice from a DataFrame.\n",
      "Try using .loc[row_indexer,col_indexer] = value instead\n",
      "\n",
      "See the caveats in the documentation: https://pandas.pydata.org/pandas-docs/stable/user_guide/indexing.html#returning-a-view-versus-a-copy\n",
      "  self[name] = value\n"
     ]
    },
    {
     "data": {
      "text/plain": [
       "HOLEID                object\n",
       "SAMPFROM             float64\n",
       "SAMPTO               float64\n",
       "AG_PPM_OLDISKUT      float64\n",
       "AS_PPM_OLDISKUT      float64\n",
       "AU_PPM_OLDISKUT      float64\n",
       "BA_PPM_OLDISKUT      float64\n",
       "BI_PPM_OLDISKUT      float64\n",
       "CD_PPM_OLDISKUT      float64\n",
       "CO_PPM_OLDISKUT      float64\n",
       "CR_PPM_OLDISKUT      float64\n",
       "CU_PCT_OLDISKUT      float64\n",
       "FE_PCT_OLDISKUT      float64\n",
       "K_PCT_OLDISKUT       float64\n",
       "MO_PCT_OLDISKUT      float64\n",
       "NA_PCT_OLDISKUT      float64\n",
       "PB_PCT_OLDISKUT      float64\n",
       "S_PCT_OLDISKUT       float64\n",
       "SB_PPM_OLDISKUT      float64\n",
       "Comment               object\n",
       "Veins                float64\n",
       "Snip_Veins            object\n",
       "Snip_veins_sorted     object\n",
       "dtype: object"
      ]
     },
     "execution_count": 9,
     "metadata": {},
     "output_type": "execute_result"
    }
   ],
   "source": [
    "clean_assay = assay[pd.to_numeric(assay['AU_PPM_OLDISKUT'], errors='coerce').notnull()]\n",
    "\n",
    "clean_assay.AU_PPM_OLDISKUT = clean_assay.AU_PPM_OLDISKUT.astype(float)\n",
    "clean_assay.dtypes"
   ]
  },
  {
   "cell_type": "code",
   "execution_count": 10,
   "metadata": {},
   "outputs": [
    {
     "name": "stderr",
     "output_type": "stream",
     "text": [
      "/var/folders/4h/m6_qv78d1ll6g0_5dn81rvh80000gp/T/ipykernel_17861/2331897480.py:16: UserWarning: Matplotlib is currently using module://matplotlib_inline.backend_inline, which is a non-GUI backend, so cannot show the figure.\n",
      "  fig.show()\n"
     ]
    },
    {
     "data": {
      "image/png": "[encoded data removed]",
      "text/plain": [
       "<Figure size 432x288 with 1 Axes>"
      ]
     },
     "metadata": {
      "needs_background": "light"
     },
     "output_type": "display_data"
    }
   ],
   "source": [
    "fig, ax = plt.subplots()\n",
    "\n",
    "x = clean_assay.AU_PPM_OLDISKUT\n",
    "ys = [clean_assay.AG_PPM_OLDISKUT]\n",
    "\n",
    "for y in ys:\n",
    "    ax.scatter(x, y)\n",
    "    \n",
    "    \n",
    "ax.set_title(\"Ag vs Au\")\n",
    "ax.set_xlim(0.0001, 1000)\n",
    "ax.set_xscale(\"log\")\n",
    "ax.set_ylim(0.001, 10000)\n",
    "ax.set_yscale(\"log\")\n",
    "\n",
    "fig.show()"
   ]
  },
  {
   "cell_type": "code",
   "execution_count": 11,
   "metadata": {},
   "outputs": [],
   "source": [
    "# First, get the data\n",
    "assay = pd.read_csv(f'{DATA_FOLDER}BS_assay.csv')  # here is the assay data"
   ]
  },
  {
   "cell_type": "code",
   "execution_count": 12,
   "metadata": {},
   "outputs": [
    {
     "name": "stdout",
     "output_type": "stream",
     "text": [
      "HOLEID                object\n",
      "SAMPFROM             float64\n",
      "SAMPTO               float64\n",
      "AG_PPM_OLDISKUT      float64\n",
      "AS_PPM_OLDISKUT      float64\n",
      "AU_PPM_OLDISKUT      float64\n",
      "BA_PPM_OLDISKUT      float64\n",
      "BI_PPM_OLDISKUT      float64\n",
      "CD_PPM_OLDISKUT      float64\n",
      "CO_PPM_OLDISKUT      float64\n",
      "CR_PPM_OLDISKUT      float64\n",
      "CU_PCT_OLDISKUT      float64\n",
      "FE_PCT_OLDISKUT      float64\n",
      "K_PCT_OLDISKUT       float64\n",
      "MO_PCT_OLDISKUT      float64\n",
      "NA_PCT_OLDISKUT      float64\n",
      "PB_PCT_OLDISKUT      float64\n",
      "S_PCT_OLDISKUT       float64\n",
      "SB_PPM_OLDISKUT      float64\n",
      "Comment               object\n",
      "Veins                float64\n",
      "Snip_Veins            object\n",
      "Snip_veins_sorted     object\n",
      "dtype: object\n"
     ]
    }
   ],
   "source": [
    "# Then clean the data\n",
    "clean_assay = assay[pd.to_numeric(assay['AU_PPM_OLDISKUT'], errors='coerce').notnull()]\n",
    "\n",
    "clean_assay.AU_PPM_OLDISKUT = clean_assay.AU_PPM_OLDISKUT.astype(float)\n",
    "print(clean_assay.dtypes)\n",
    "# Hopefully all the things that we want to keep numerical are now numerical\n",
    "\n",
    "assay = clean_assay"
   ]
  },
  {
   "cell_type": "code",
   "execution_count": 13,
   "metadata": {},
   "outputs": [],
   "source": [
    "class Metal:\n",
    "    def __init__(self, metal_id: str, weights: list, grades: list):\n",
    "        data = {\n",
    "            \"weight\": weights,\n",
    "            \"grade\": grades\n",
    "        }\n",
    "        self.info = df = pd.DataFrame(data)\n",
    "        df.sort_values(by='grade', ascending=False, inplace=True)\n",
    "        df['cml_weight'] = df['weight'].cumsum()\n",
    "        \n",
    "        sum_weights = sum(df['weight'])\n",
    "        df['weight_pct'] = np.divide(df['weight'], sum_weights)\n",
    "        df['cml_weight_pct'] = df['weight_pct'].cumsum()\n",
    "        df['yield'] = np.multiply(df['weight'], df['grade'])\n",
    "        df['cml_yield'] = df['yield'].cumsum()\n",
    "        df['cml_grade'] = np.divide(df['cml_yield'], df['cml_weight'])\n",
    "        \n",
    "        sum_yield = sum(df['yield'])\n",
    "        df['recovery'] = np.divide(df['yield'], sum_yield)\n",
    "        df['cml_recovery'] = df['recovery'].cumsum()\n",
    "        \n",
    "\n",
    "class DrillHole:\n",
    "    def __init__(self, hole_id):\n",
    "        self.hole_id = hole_id\n",
    "        self.metals = {}\n",
    "        \n",
    "    def calculate_metal_heterogeneity(self, metal_id: str, weights: list, grades: list):\n",
    "        if len(weights) - len(grades) == 0:\n",
    "            self.metals[metal_id] = Metal(metal_id, weights, grades)\n",
    "        else:\n",
    "            raise Exception(\"Weight and grade arrays must be same length\")"
   ]
  },
  {
   "cell_type": "code",
   "execution_count": 14,
   "metadata": {},
   "outputs": [],
   "source": [
    "# Sort the data into drillholes\n",
    "hole_ids = assay.HOLEID.unique()\n",
    "\n",
    "resources = {\n",
    "    \"Cu\": \"CU_PCT_OLDISKUT\",\n",
    "    \"Au\": \"AU_PPM_OLDISKUT\"\n",
    "}\n",
    "\n",
    "# currently creating a dictionary with the DataFrame queries, but we can create an object instead\n",
    "drillholes = {}\n",
    "for hole_id in hole_ids:\n",
    "    dh = drillholes[hole_id] = DrillHole(hole_id)\n",
    "    df = assay.query(\"HOLEID == @hole_id\")\n",
    "    weights = list(np.subtract(df.SAMPTO, df.SAMPFROM))\n",
    "    \n",
    "    for resource_id, column_id in resources.items():\n",
    "        grades = df[column_id].to_list()\n",
    "        dh.calculate_metal_heterogeneity(resource_id, weights, grades)\n",
    "\n",
    "# Calculate constitutional heterogeneity, and distributional heterogeneity"
   ]
  },
  {
   "cell_type": "code",
   "execution_count": 15,
   "metadata": {},
   "outputs": [
    {
     "data": {
      "text/html": [
       "<div>\n",
       "<style scoped>\n",
       "    .dataframe tbody tr th:only-of-type {\n",
       "        vertical-align: middle;\n",
       "    }\n",
       "\n",
       "    .dataframe tbody tr th {\n",
       "        vertical-align: top;\n",
       "    }\n",
       "\n",
       "    .dataframe thead th {\n",
       "        text-align: right;\n",
       "    }\n",
       "</style>\n",
       "<table border=\"1\" class=\"dataframe\">\n",
       "  <thead>\n",
       "    <tr style=\"text-align: right;\">\n",
       "      <th></th>\n",
       "      <th>weight</th>\n",
       "      <th>grade</th>\n",
       "      <th>cml_weight</th>\n",
       "      <th>weight_pct</th>\n",
       "      <th>cml_weight_pct</th>\n",
       "      <th>yield</th>\n",
       "      <th>cml_yield</th>\n",
       "      <th>cml_grade</th>\n",
       "      <th>recovery</th>\n",
       "      <th>cml_recovery</th>\n",
       "    </tr>\n",
       "  </thead>\n",
       "  <tbody>\n",
       "    <tr>\n",
       "      <th>3</th>\n",
       "      <td>2.0</td>\n",
       "      <td>0.368</td>\n",
       "      <td>2.0</td>\n",
       "      <td>0.030075</td>\n",
       "      <td>0.030075</td>\n",
       "      <td>0.7360</td>\n",
       "      <td>0.7360</td>\n",
       "      <td>0.368000</td>\n",
       "      <td>0.062486</td>\n",
       "      <td>0.062486</td>\n",
       "    </tr>\n",
       "    <tr>\n",
       "      <th>16</th>\n",
       "      <td>2.5</td>\n",
       "      <td>0.311</td>\n",
       "      <td>4.5</td>\n",
       "      <td>0.037594</td>\n",
       "      <td>0.067669</td>\n",
       "      <td>0.7775</td>\n",
       "      <td>1.5135</td>\n",
       "      <td>0.336333</td>\n",
       "      <td>0.066010</td>\n",
       "      <td>0.128496</td>\n",
       "    </tr>\n",
       "    <tr>\n",
       "      <th>8</th>\n",
       "      <td>5.0</td>\n",
       "      <td>0.281</td>\n",
       "      <td>9.5</td>\n",
       "      <td>0.075188</td>\n",
       "      <td>0.142857</td>\n",
       "      <td>1.4050</td>\n",
       "      <td>2.9185</td>\n",
       "      <td>0.307211</td>\n",
       "      <td>0.119284</td>\n",
       "      <td>0.247780</td>\n",
       "    </tr>\n",
       "    <tr>\n",
       "      <th>15</th>\n",
       "      <td>2.5</td>\n",
       "      <td>0.281</td>\n",
       "      <td>12.0</td>\n",
       "      <td>0.037594</td>\n",
       "      <td>0.180451</td>\n",
       "      <td>0.7025</td>\n",
       "      <td>3.6210</td>\n",
       "      <td>0.301750</td>\n",
       "      <td>0.059642</td>\n",
       "      <td>0.307422</td>\n",
       "    </tr>\n",
       "    <tr>\n",
       "      <th>6</th>\n",
       "      <td>3.5</td>\n",
       "      <td>0.227</td>\n",
       "      <td>15.5</td>\n",
       "      <td>0.052632</td>\n",
       "      <td>0.233083</td>\n",
       "      <td>0.7945</td>\n",
       "      <td>4.4155</td>\n",
       "      <td>0.284871</td>\n",
       "      <td>0.067453</td>\n",
       "      <td>0.374875</td>\n",
       "    </tr>\n",
       "  </tbody>\n",
       "</table>\n",
       "</div>"
      ],
      "text/plain": [
       "    weight  grade  cml_weight  weight_pct  cml_weight_pct   yield  cml_yield  \\\n",
       "3      2.0  0.368         2.0    0.030075        0.030075  0.7360     0.7360   \n",
       "16     2.5  0.311         4.5    0.037594        0.067669  0.7775     1.5135   \n",
       "8      5.0  0.281         9.5    0.075188        0.142857  1.4050     2.9185   \n",
       "15     2.5  0.281        12.0    0.037594        0.180451  0.7025     3.6210   \n",
       "6      3.5  0.227        15.5    0.052632        0.233083  0.7945     4.4155   \n",
       "\n",
       "    cml_grade  recovery  cml_recovery  \n",
       "3    0.368000  0.062486      0.062486  \n",
       "16   0.336333  0.066010      0.128496  \n",
       "8    0.307211  0.119284      0.247780  \n",
       "15   0.301750  0.059642      0.307422  \n",
       "6    0.284871  0.067453      0.374875  "
      ]
     },
     "execution_count": 15,
     "metadata": {},
     "output_type": "execute_result"
    }
   ],
   "source": [
    "drillholes[\"1198\"].metals[\"Cu\"].info.head(5)"
   ]
  },
  {
   "cell_type": "code",
   "execution_count": 16,
   "metadata": {},
   "outputs": [
    {
     "name": "stderr",
     "output_type": "stream",
     "text": [
      "/var/folders/4h/m6_qv78d1ll6g0_5dn81rvh80000gp/T/ipykernel_17861/944373698.py:29: UserWarning: Matplotlib is currently using module://matplotlib_inline.backend_inline, which is a non-GUI backend, so cannot show the figure.\n",
      "  fig.show()\n"
     ]
    },
    {
     "data": {
      "image/png": "[encoded data removed]",
      "text/plain": [
       "<Figure size 432x864 with 4 Axes>"
      ]
     },
     "metadata": {
      "needs_background": "light"
     },
     "output_type": "display_data"
    }
   ],
   "source": [
    "import matplotlib.ticker as mtick\n",
    "\n",
    "fig, axs = plt.subplots(len(resources), figsize=(6, 6 * len(resources)))\n",
    "\n",
    "for i, resource_id in enumerate(resources.keys()):\n",
    "    ax = axs[i]\n",
    "    ax_sec = ax.twinx()\n",
    "    for dh_id in drillholes.keys():\n",
    "        df = drillholes[dh_id].metals[resource_id].info\n",
    "\n",
    "        x = df['cml_weight_pct']\n",
    "        y = df['cml_grade']\n",
    "        ax.scatter(x, y, color='blue', s=0.1)\n",
    "        \n",
    "        y = df['cml_recovery']\n",
    "        ax_sec.scatter(x, y, color='red', s=0.1)\n",
    "        \n",
    "    if resource_id == \"Cu\":\n",
    "        ax.set_ylim(0, 2)\n",
    "    elif resource_id == \"Au\":\n",
    "        ax.set_ylim(0, 20)\n",
    "        \n",
    "    ax.set_xlim(0, 1)\n",
    "    ax.xaxis.set_major_formatter(mtick.PercentFormatter(1.0))\n",
    "    \n",
    "    ax_sec.set_ylim(0, 1)\n",
    "    ax_sec.yaxis.set_major_formatter(mtick.PercentFormatter(1.0))\n",
    "\n",
    "fig.show()\n",
    "\n",
    "# fig, axs = plt.subplots(6, 6 * len(resources))\n",
    "\n",
    "\n",
    "# x = clean_assay.AU_PPM_OLDISKUT\n",
    "# y = [clean_assay.AU_PPM_OLDISKUT]\n",
    "\n",
    "# for y in ys:\n",
    "#     ax.scatter(x, y)\n",
    "    \n",
    "    \n",
    "\n",
    "\n",
    "    \n",
    "# ax.set_title(\"Ag vs Au\")\n",
    "# ax.set_xlim(0.0001, 1000)\n",
    "# ax.set_xscale(\"log\")\n",
    "# ax.set_ylim(0.001, 10000)\n",
    "# ax.set_yscale(\"log\")"
   ]
  },
  {
   "cell_type": "markdown",
   "metadata": {},
   "source": []
  }
 ],
 "metadata": {
  "interpreter": {
   "hash": "aee8b7b246df8f9039afb4144a1f6fd8d2ca17a180786b69acc140d282b71a49"
  },
  "kernelspec": {
   "display_name": "Python 3 (ipykernel)",
   "language": "python",
   "name": "python3"
  },
  "language_info": {
   "codemirror_mode": {
    "name": "ipython",
    "version": 3
   },
   "file_extension": ".py",
   "mimetype": "text/x-python",
   "name": "python",
   "nbconvert_exporter": "python",
   "pygments_lexer": "ipython3",
   "version": "3.9.7"
  }
 },
 "nbformat": 4,
 "nbformat_minor": 2
}
