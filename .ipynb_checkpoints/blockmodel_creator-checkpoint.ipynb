{
 "cells": [
  {
   "cell_type": "code",
   "execution_count": 3,
   "metadata": {},
   "outputs": [],
   "source": [
    "!pip install miningpy"
   ]
  },
  {
   "cell_type": "code",
   "execution_count": 5,
   "metadata": {},
   "outputs": [],
   "source": [
    "import miningpy as mining\n",
    "import numpy as np\n",
    "import pandas as pd"
   ]
  },
  {
   "cell_type": "code",
   "execution_count": 6,
   "metadata": {},
   "outputs": [],
   "source": [
    "DATA_FOLDER = 'data/'\n",
    "df = pd.read_csv(f'{DATA_FOLDER}BS_block_model.csv')"
   ]
  },
  {
   "cell_type": "code",
   "execution_count": 14,
   "metadata": {},
   "outputs": [],
   "source": [
    "class BlockModel:\n",
    "    def __init__(self, data, blocksize):\n",
    "        # data.x, data.y, data.z, data.prop\n",
    "        data['x'].index\n",
    "        self.datum = {\n",
    "            'x': min(data['x']), \n",
    "            'y': min(data['y'])\n",
    "        }\n",
    "        "
   ]
  },
  {
   "cell_type": "code",
   "execution_count": 15,
   "metadata": {},
   "outputs": [
    {
     "name": "stdout",
     "output_type": "stream",
     "text": [
      "(0, 371581.563)\n"
     ]
    }
   ],
   "source": [
    "data = {\n",
    "    'x': df['X'],\n",
    "    'y': df['Y'],\n",
    "    'z': df['Z'],\n",
    "    'prop': df[['AU', 'CU', 'AG', 'MO', 'NSR']]\n",
    "}\n",
    "bm = BlockModel(data, 10)"
   ]
  },
  {
   "cell_type": "code",
   "execution_count": 13,
   "metadata": {},
   "outputs": [
    {
     "data": {
      "text/plain": [
       "{'x': 371303.775, 'y': 6281245.801}"
      ]
     },
     "execution_count": 13,
     "metadata": {},
     "output_type": "execute_result"
    }
   ],
   "source": [
    "bm.datum"
   ]
  },
  {
   "cell_type": "code",
   "execution_count": 3,
   "metadata": {},
   "outputs": [
    {
     "name": "stdout",
     "output_type": "stream",
     "text": [
      "Collecting miningpy\n",
      "  Using cached miningpy-0.6.2-py3-none-any.whl (1.6 MB)\n",
      "Collecting ezdxf>=0.13.1\n",
      "  Downloading ezdxf-0.17.2-cp39-cp39-macosx_10_9_x86_64.whl (1.3 MB)\n",
      "\u001b[K     |████████████████████████████████| 1.3 MB 9.1 MB/s eta 0:00:01\n",
      "\u001b[?25hCollecting vtk>=8.0\n",
      "  Downloading vtk-9.1.0-cp39-cp39-macosx_10_10_x86_64.whl (79.8 MB)\n",
      "\u001b[K     |████████████████████████████████| 79.8 MB 53 kB/s s eta 0:00:01\n",
      "\u001b[?25hCollecting pyqt5\n",
      "  Using cached PyQt5-5.15.6-cp36-abi3-macosx_10_13_x86_64.whl (7.0 MB)\n",
      "Collecting pyvista>=0.32\n",
      "  Using cached pyvista-0.34.1-py3-none-any.whl (1.4 MB)\n",
      "Requirement already satisfied: numpy>=1.19.0 in /Users/benjaminwong/opt/anaconda3/lib/python3.9/site-packages (from miningpy) (1.20.3)\n",
      "Collecting pyvistaqt\n",
      "  Using cached pyvistaqt-0.9.0-py3-none-any.whl (130 kB)\n",
      "Requirement already satisfied: matplotlib in /Users/benjaminwong/opt/anaconda3/lib/python3.9/site-packages (from miningpy) (3.4.3)\n",
      "Requirement already satisfied: pandas>=1.0 in /Users/benjaminwong/opt/anaconda3/lib/python3.9/site-packages (from miningpy) (1.3.4)\n",
      "Requirement already satisfied: typing-extensions in /Users/benjaminwong/opt/anaconda3/lib/python3.9/site-packages (from ezdxf>=0.13.1->miningpy) (3.10.0.2)\n",
      "Requirement already satisfied: pyparsing>=2.0.1 in /Users/benjaminwong/opt/anaconda3/lib/python3.9/site-packages (from ezdxf>=0.13.1->miningpy) (3.0.4)\n",
      "Requirement already satisfied: python-dateutil>=2.7.3 in /Users/benjaminwong/opt/anaconda3/lib/python3.9/site-packages (from pandas>=1.0->miningpy) (2.8.2)\n",
      "Requirement already satisfied: pytz>=2017.3 in /Users/benjaminwong/opt/anaconda3/lib/python3.9/site-packages (from pandas>=1.0->miningpy) (2021.3)\n",
      "Requirement already satisfied: six>=1.5 in /Users/benjaminwong/opt/anaconda3/lib/python3.9/site-packages (from python-dateutil>=2.7.3->pandas>=1.0->miningpy) (1.16.0)\n",
      "Requirement already satisfied: imageio in /Users/benjaminwong/opt/anaconda3/lib/python3.9/site-packages (from pyvista>=0.32->miningpy) (2.9.0)\n",
      "Requirement already satisfied: pillow in /Users/benjaminwong/opt/anaconda3/lib/python3.9/site-packages (from pyvista>=0.32->miningpy) (8.4.0)\n",
      "Requirement already satisfied: appdirs in /Users/benjaminwong/opt/anaconda3/lib/python3.9/site-packages (from pyvista>=0.32->miningpy) (1.4.4)\n",
      "Collecting scooby>=0.5.1\n",
      "  Using cached scooby-0.5.12-py3-none-any.whl (14 kB)\n",
      "Collecting wslink>=1.0.4\n",
      "  Using cached wslink-1.6.1-py3-none-any.whl (22 kB)\n",
      "Requirement already satisfied: kiwisolver>=1.0.1 in /Users/benjaminwong/opt/anaconda3/lib/python3.9/site-packages (from matplotlib->miningpy) (1.3.1)\n",
      "Requirement already satisfied: cycler>=0.10 in /Users/benjaminwong/opt/anaconda3/lib/python3.9/site-packages (from matplotlib->miningpy) (0.10.0)\n",
      "Collecting aiohttp\n",
      "  Downloading aiohttp-3.8.1-cp39-cp39-macosx_10_9_x86_64.whl (574 kB)\n",
      "\u001b[K     |████████████████████████████████| 574 kB 22.3 MB/s eta 0:00:01\n",
      "\u001b[?25hRequirement already satisfied: attrs>=17.3.0 in /Users/benjaminwong/opt/anaconda3/lib/python3.9/site-packages (from aiohttp->wslink>=1.0.4->vtk>=8.0->miningpy) (21.2.0)\n",
      "Collecting frozenlist>=1.1.1\n",
      "  Downloading frozenlist-1.3.0-cp39-cp39-macosx_10_9_x86_64.whl (36 kB)\n",
      "Collecting aiosignal>=1.1.2\n",
      "  Using cached aiosignal-1.2.0-py3-none-any.whl (8.2 kB)\n",
      "Requirement already satisfied: charset-normalizer<3.0,>=2.0 in /Users/benjaminwong/opt/anaconda3/lib/python3.9/site-packages (from aiohttp->wslink>=1.0.4->vtk>=8.0->miningpy) (2.0.4)\n",
      "Collecting yarl<2.0,>=1.0\n",
      "  Downloading yarl-1.7.2-cp39-cp39-macosx_10_9_x86_64.whl (121 kB)\n",
      "\u001b[K     |████████████████████████████████| 121 kB 19.1 MB/s eta 0:00:01\n",
      "\u001b[?25hCollecting multidict<7.0,>=4.5\n",
      "  Downloading multidict-6.0.2-cp39-cp39-macosx_10_9_x86_64.whl (28 kB)\n",
      "Collecting async-timeout<5.0,>=4.0.0a3\n",
      "  Using cached async_timeout-4.0.2-py3-none-any.whl (5.8 kB)\n",
      "Requirement already satisfied: idna>=2.0 in /Users/benjaminwong/opt/anaconda3/lib/python3.9/site-packages (from yarl<2.0,>=1.0->aiohttp->wslink>=1.0.4->vtk>=8.0->miningpy) (3.2)\n",
      "Collecting PyQt5-Qt5>=5.15.2\n",
      "  Using cached PyQt5_Qt5-5.15.2-py3-none-macosx_10_13_intel.whl (40.5 MB)\n",
      "Collecting PyQt5-sip<13,>=12.8\n",
      "  Downloading PyQt5_sip-12.10.1-cp39-cp39-macosx_10_9_x86_64.whl (83 kB)\n",
      "\u001b[K     |████████████████████████████████| 83 kB 6.3 MB/s  eta 0:00:01\n",
      "\u001b[?25hRequirement already satisfied: QtPy>=1.9.0 in /Users/benjaminwong/opt/anaconda3/lib/python3.9/site-packages (from pyvistaqt->miningpy) (1.10.0)\n",
      "Installing collected packages: multidict, frozenlist, yarl, async-timeout, aiosignal, aiohttp, wslink, vtk, scooby, pyvista, PyQt5-sip, PyQt5-Qt5, pyvistaqt, pyqt5, ezdxf, miningpy\n",
      "\u001b[31mERROR: pip's dependency resolver does not currently take into account all the packages that are installed. This behaviour is the source of the following dependency conflicts.\n",
      "spyder 5.1.5 requires pyqtwebengine<5.13, which is not installed.\n",
      "spyder 5.1.5 requires pyqt5<5.13, but you have pyqt5 5.15.6 which is incompatible.\u001b[0m\n",
      "Successfully installed PyQt5-Qt5-5.15.2 PyQt5-sip-12.10.1 aiohttp-3.8.1 aiosignal-1.2.0 async-timeout-4.0.2 ezdxf-0.17.2 frozenlist-1.3.0 miningpy-0.6.2 multidict-6.0.2 pyqt5-5.15.6 pyvista-0.34.1 pyvistaqt-0.9.0 scooby-0.5.12 vtk-9.1.0 wslink-1.6.1 yarl-1.7.2\n"
     ]
    },
    {
     "data": {
      "text/plain": [
       "True"
      ]
     },
     "execution_count": 3,
     "metadata": {},
     "output_type": "execute_result"
    }
   ],
   "source": [
    "!pip install miningpy"
   ]
  },
  {
   "cell_type": "code",
   "execution_count": 4,
   "metadata": {},
   "outputs": [
    {
     "data": {
      "text/plain": [
       "True"
      ]
     },
     "execution_count": 4,
     "metadata": {},
     "output_type": "execute_result"
    }
   ],
   "source": [
    "import pandas as pd\n",
    "import miningpy\n",
    "\n",
    "# block model example (zuck small - MineLib)\n",
    "url = \"https://drive.google.com/uc?export=download&id=1SOrYhqiu5Tg8Zjb7be4fUWhbFDTU1sEk\"\n",
    "\n",
    "# read in block model from link\n",
    "blockModel = pd.read_csv(url, compression='zip')\n",
    "\n",
    "blockModel.export_html(\n",
    "    path='blockmodel.html',\n",
    "    xyz_cols=('x', 'y', 'z'),\n",
    "    dims=(1, 1, 1),  # block dimensions (5m * 5m * 5m)\n",
    ")"
   ]
  },
  {
   "cell_type": "code",
   "execution_count": null,
   "metadata": {},
   "outputs": [],
   "source": []
  }
 ],
 "metadata": {
  "interpreter": {
   "hash": "aee8b7b246df8f9039afb4144a1f6fd8d2ca17a180786b69acc140d282b71a49"
  },
  "kernelspec": {
   "display_name": "Python 3 (ipykernel)",
   "language": "python",
   "name": "python3"
  },
  "language_info": {
   "codemirror_mode": {
    "name": "ipython",
    "version": 3
   },
   "file_extension": ".py",
   "mimetype": "text/x-python",
   "name": "python",
   "nbconvert_exporter": "python",
   "pygments_lexer": "ipython3",
   "version": "3.9.7"
  }
 },
 "nbformat": 4,
 "nbformat_minor": 2
}
